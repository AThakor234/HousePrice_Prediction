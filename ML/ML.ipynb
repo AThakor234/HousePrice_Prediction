{
 "cells": [
  {
   "cell_type": "code",
   "execution_count": 8,
   "id": "1daeae91",
   "metadata": {},
   "outputs": [],
   "source": [
    "import pandas as pd\n",
    "import warnings\n",
    "pd.pandas.set_option(\"display.max_columns\",None)\n",
    "warnings.filterwarnings('ignore')"
   ]
  },
  {
   "cell_type": "code",
   "execution_count": 9,
   "id": "e40163ad",
   "metadata": {},
   "outputs": [],
   "source": [
    "from sklearn.metrics import balanced_accuracy_score\n",
    "from sklearn.metrics import confusion_matrix\n",
    "from imblearn.metrics import classification_report_imbalanced"
   ]
  },
  {
   "cell_type": "code",
   "execution_count": 10,
   "id": "f9ce3588",
   "metadata": {},
   "outputs": [
    {
     "data": {
      "text/html": [
       "<div>\n",
       "<style scoped>\n",
       "    .dataframe tbody tr th:only-of-type {\n",
       "        vertical-align: middle;\n",
       "    }\n",
       "\n",
       "    .dataframe tbody tr th {\n",
       "        vertical-align: top;\n",
       "    }\n",
       "\n",
       "    .dataframe thead th {\n",
       "        text-align: right;\n",
       "    }\n",
       "</style>\n",
       "<table border=\"1\" class=\"dataframe\">\n",
       "  <thead>\n",
       "    <tr style=\"text-align: right;\">\n",
       "      <th></th>\n",
       "      <th>Housing_Id</th>\n",
       "      <th>Address</th>\n",
       "      <th>sold_price</th>\n",
       "      <th>Summary</th>\n",
       "      <th>Housing_type</th>\n",
       "      <th>Year_built</th>\n",
       "      <th>heating_features</th>\n",
       "      <th>cooling_features</th>\n",
       "      <th>parking</th>\n",
       "      <th>Lot</th>\n",
       "      <th>bedrooms</th>\n",
       "      <th>bathrooms</th>\n",
       "      <th>full_bathrooms</th>\n",
       "      <th>total_interior_livable_area</th>\n",
       "      <th>Total spaces</th>\n",
       "      <th>Garage spaces</th>\n",
       "      <th>Region</th>\n",
       "      <th>Elementary School</th>\n",
       "      <th>elementary_school_score</th>\n",
       "      <th>elementary_school_distance</th>\n",
       "      <th>Middle School</th>\n",
       "      <th>middle_school_score</th>\n",
       "      <th>middle_school_distance<